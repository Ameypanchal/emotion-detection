{
 "cells": [
  {
   "cell_type": "code",
   "execution_count": 2,
   "id": "f3d9c8cf",
   "metadata": {},
   "outputs": [],
   "source": [
    "import cv2\n",
    "import numpy as np\n",
    "from keras.models import model_from_json, load_model\n",
    "import pickle"
   ]
  },
  {
   "cell_type": "code",
   "execution_count": 11,
   "id": "9592cff5",
   "metadata": {},
   "outputs": [],
   "source": [
    "emotion_dict = {0:'Angry', 1:'Disgust', 2:'Fear', 3:'Happy', 4:'Neutral', 5:'Sad',6:'Surprise'}"
   ]
  },
  {
   "cell_type": "code",
   "execution_count": 3,
   "id": "44c37972",
   "metadata": {},
   "outputs": [],
   "source": [
    "# load json and create model\n",
    "json_file = open('model/model_loaded.json','r')\n",
    "loaded_model_json = json_file.read()\n",
    "json_file.close()\n",
    "emotion_model = model_from_json(loaded_model_json)"
   ]
  },
  {
   "cell_type": "code",
   "execution_count": 4,
   "id": "0805a142",
   "metadata": {},
   "outputs": [
    {
     "name": "stdout",
     "output_type": "stream",
     "text": [
      "WARNING:tensorflow:From C:\\Users\\91810\\AppData\\Local\\Programs\\Python\\Python311\\Lib\\site-packages\\keras\\src\\backend.py:1398: The name tf.executing_eagerly_outside_functions is deprecated. Please use tf.compat.v1.executing_eagerly_outside_functions instead.\n",
      "\n",
      "WARNING:tensorflow:From C:\\Users\\91810\\AppData\\Local\\Programs\\Python\\Python311\\Lib\\site-packages\\keras\\src\\layers\\normalization\\batch_normalization.py:979: The name tf.nn.fused_batch_norm is deprecated. Please use tf.compat.v1.nn.fused_batch_norm instead.\n",
      "\n"
     ]
    }
   ],
   "source": [
    "# load weights into model\n",
    "# model = emotion_model.load_weights('model/model_50.weights.h5')\n",
    "# Load the model from a file\n",
    "# with open('model/model.pkl', 'rb') as file:\n",
    "#     model = pickle.load(file)\n",
    "# print('Loaded model from disk')\n",
    "\n",
    "model = load_model('model/model_10.h5')"
   ]
  },
  {
   "cell_type": "code",
   "execution_count": 15,
   "id": "2a12b6ee",
   "metadata": {},
   "outputs": [],
   "source": [
    "faceDetect = cv2.CascadeClassifier('haarcascade_frontalface_default.xml')\n",
    "\n",
    "frame = cv2.imread(\"images/angry.jpg\")\n",
    "gray = cv2.cvtColor(frame, cv2.COLOR_BGR2GRAY)\n",
    "faces = faceDetect.detectMultiScale(gray, 1.3, 3)"
   ]
  },
  {
   "cell_type": "code",
   "execution_count": 16,
   "id": "ca411115",
   "metadata": {},
   "outputs": [
    {
     "name": "stdout",
     "output_type": "stream",
     "text": [
      "1/1 [==============================] - 0s 82ms/step\n"
     ]
    }
   ],
   "source": [
    "# # Process each detected face\n",
    "# for (x, y, w, h) in faces:\n",
    "#     # Extract the region of interest (ROI) containing the face\n",
    "#     roi_gray = gray[y:y + h, x:x + w]\n",
    "\n",
    "#     # Resize the ROI to match the input shape expected by the emotion recognition model\n",
    "#     roi_gray = cv2.resize(roi_gray, (48, 48))\n",
    "\n",
    "#     # Normalize the ROI\n",
    "#     roi_gray = roi_gray / 255.0\n",
    "\n",
    "#     # Reshape the ROI to match the input shape expected by the emotion recognition model\n",
    "#     roi_gray = roi_gray.reshape(1, 48, 48, 3)\n",
    "\n",
    "#     # Predict the emotion label for the ROI using the emotion recognition model\n",
    "#     predicted_emotion = emotion_model.predict(roi_gray)\n",
    "\n",
    "#     # Get the index of the predicted emotion label\n",
    "#     predicted_emotion_index = int(predicted_emotion.argmax())\n",
    "\n",
    "#     # Get the corresponding emotion label from the emotion dictionary\n",
    "#     emotion_label = emotion_dict[predicted_emotion_index]\n",
    "\n",
    "#     # Draw a rectangle around the detected face\n",
    "#     cv2.rectangle(frame, (x, y), (x + w, y + h), (255, 0, 0), 2)\n",
    "\n",
    "#     # Display the predicted emotion label above the detected face\n",
    "#     cv2.putText(frame, emotion_label, (x, y - 10), cv2.FONT_HERSHEY_SIMPLEX, 0.9, (255, 0, 0), 2)\n",
    "# Process each detected face\n",
    "for (x, y, w, h) in faces:\n",
    "    # Extract the region of interest (ROI) containing the face\n",
    "    roi_gray = gray[y:y + h, x:x + w]\n",
    "\n",
    "    # Resize the ROI to match MobileNetV2 input size\n",
    "    roi_resized = cv2.resize(roi_gray, (48, 48))\n",
    "\n",
    "    # Add two extra channels filled with zeros\n",
    "    roi_color = np.expand_dims(roi_resized, axis=-1)  # Expand to add a single channel\n",
    "    roi_color = np.repeat(roi_color, 3, axis=-1)  # Repeat 3 times to create 3 channels\n",
    "\n",
    "    # Normalize the ROI\n",
    "    roi_color = roi_color / 255.0\n",
    "\n",
    "    # Reshape the ROI to match the expected input shape\n",
    "    roi_color = roi_color.reshape(1, 48, 48, 3)\n",
    "\n",
    "    # Predict the emotion label\n",
    "    predicted_emotion = model.predict(roi_color)\n",
    "\n",
    "    # Get the index of the predicted emotion label\n",
    "    predicted_emotion_index = int(predicted_emotion.argmax())\n",
    "\n",
    "    # Get the corresponding emotion label from the emotion dictionary\n",
    "    emotion_label = emotion_dict[predicted_emotion_index]\n",
    "\n",
    "    # Draw a rectangle around the detected face\n",
    "    cv2.rectangle(frame, (x, y), (x + w, y + h), (255, 0, 0), 2)\n",
    "\n",
    "    # Display the predicted emotion label above the detected face\n",
    "    cv2.putText(frame, emotion_label, (x, y - 10), cv2.FONT_HERSHEY_SIMPLEX, 0.9, (255, 0, 0), 2)\n"
   ]
  },
  {
   "cell_type": "code",
   "execution_count": 17,
   "id": "9c3c2129",
   "metadata": {},
   "outputs": [],
   "source": [
    "# Display the processed image with detected faces and predicted emotions\n",
    "cv2.imshow('Emotion Detection', frame)\n",
    "cv2.waitKey(0)\n",
    "cv2.destroyAllWindows()"
   ]
  },
  {
   "cell_type": "code",
   "execution_count": null,
   "id": "19cf4c80",
   "metadata": {},
   "outputs": [],
   "source": []
  }
 ],
 "metadata": {
  "kernelspec": {
   "display_name": "Python 3 (ipykernel)",
   "language": "python",
   "name": "python3"
  },
  "language_info": {
   "codemirror_mode": {
    "name": "ipython",
    "version": 3
   },
   "file_extension": ".py",
   "mimetype": "text/x-python",
   "name": "python",
   "nbconvert_exporter": "python",
   "pygments_lexer": "ipython3",
   "version": "3.11.4"
  }
 },
 "nbformat": 4,
 "nbformat_minor": 5
}
