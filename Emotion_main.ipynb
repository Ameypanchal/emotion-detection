{
 "cells": [
  {
   "cell_type": "code",
   "execution_count": 2,
   "id": "35631ba3",
   "metadata": {},
   "outputs": [],
   "source": [
    "# import libs\n",
    "import tensorflow as tf\n",
    "from keras.models import Sequential, load_model\n",
    "from keras.applications import MobileNetV2\n",
    "from keras.layers import Dense, Dropout, Flatten, Conv2D, MaxPooling2D, GlobalAveragePooling2D\n",
    "from keras.callbacks import EarlyStopping, ModelCheckpoint, ReduceLROnPlateau\n",
    "from keras.preprocessing.image import ImageDataGenerator\n",
    "from keras.optimizers import Adam\n",
    "import os\n",
    "import numpy as np\n",
    "# import matplotlib.pyplot as plt\n",
    "from keras import regularizers"
   ]
  },
  {
   "cell_type": "code",
   "execution_count": 6,
   "id": "22784951",
   "metadata": {},
   "outputs": [
    {
     "name": "stdout",
     "output_type": "stream",
     "text": [
      "Collecting pillow\n",
      "  Downloading pillow-11.1.0-cp311-cp311-win_amd64.whl.metadata (9.3 kB)\n",
      "Downloading pillow-11.1.0-cp311-cp311-win_amd64.whl (2.6 MB)\n",
      "   ---------------------------------------- 0.0/2.6 MB ? eta -:--:--\n",
      "   ---------------------------------------- 0.0/2.6 MB ? eta -:--:--\n",
      "   ---------------------------------------- 0.0/2.6 MB ? eta -:--:--\n",
      "   ---------------------------------------- 0.0/2.6 MB ? eta -:--:--\n",
      "   ---------------------------------------- 0.0/2.6 MB 325.1 kB/s eta 0:00:08\n",
      "   --- ------------------------------------ 0.2/2.6 MB 1.5 MB/s eta 0:00:02\n",
      "   ---------- ----------------------------- 0.7/2.6 MB 3.7 MB/s eta 0:00:01\n",
      "   ------------- -------------------------- 0.9/2.6 MB 4.0 MB/s eta 0:00:01\n",
      "   ---------------- ----------------------- 1.1/2.6 MB 4.0 MB/s eta 0:00:01\n",
      "   ----------------- ---------------------- 1.1/2.6 MB 3.8 MB/s eta 0:00:01\n",
      "   ----------------- ---------------------- 1.1/2.6 MB 3.8 MB/s eta 0:00:01\n",
      "   ------------------ --------------------- 1.2/2.6 MB 3.0 MB/s eta 0:00:01\n",
      "   --------------------------- ------------ 1.8/2.6 MB 3.9 MB/s eta 0:00:01\n",
      "   ------------------------------ --------- 2.0/2.6 MB 3.9 MB/s eta 0:00:01\n",
      "   -------------------------------- ------- 2.2/2.6 MB 3.9 MB/s eta 0:00:01\n",
      "   ----------------------------------- ---- 2.3/2.6 MB 3.9 MB/s eta 0:00:01\n",
      "   -------------------------------------- - 2.5/2.6 MB 3.8 MB/s eta 0:00:01\n",
      "   ---------------------------------------  2.6/2.6 MB 3.9 MB/s eta 0:00:01\n",
      "   ---------------------------------------- 2.6/2.6 MB 3.7 MB/s eta 0:00:00\n",
      "Installing collected packages: pillow\n",
      "Successfully installed pillow-11.1.0\n"
     ]
    },
    {
     "name": "stderr",
     "output_type": "stream",
     "text": [
      "\n",
      "[notice] A new release of pip is available: 24.0 -> 24.3.1\n",
      "[notice] To update, run: python.exe -m pip install --upgrade pip\n"
     ]
    }
   ],
   "source": [
    "!pip install pillow"
   ]
  },
  {
   "cell_type": "code",
   "execution_count": 7,
   "id": "495fa96c",
   "metadata": {},
   "outputs": [],
   "source": [
    "# Image directory\n",
    "train_data_dir='data/train/'\n",
    "validation_data_dir='data/test/'\n",
    "# Resize input images to 224x224\n",
    "# input_shape = (48, 48, 3)"
   ]
  },
  {
   "cell_type": "code",
   "execution_count": 8,
   "id": "2cf62a28",
   "metadata": {},
   "outputs": [],
   "source": [
    "# Initialize image data generator \n",
    "train_data_gen = ImageDataGenerator(rescale=1./255)\n",
    "\n",
    "val_data_gen = ImageDataGenerator(rescale=1./255)"
   ]
  },
  {
   "cell_type": "code",
   "execution_count": 9,
   "id": "ae43294a",
   "metadata": {},
   "outputs": [
    {
     "name": "stdout",
     "output_type": "stream",
     "text": [
      "Found 28709 images belonging to 7 classes.\n",
      "Found 7178 images belonging to 7 classes.\n"
     ]
    },
    {
     "ename": "ImportError",
     "evalue": "Could not import PIL.Image. The use of `load_img` requires PIL.",
     "output_type": "error",
     "traceback": [
      "\u001b[1;31m---------------------------------------------------------------------------\u001b[0m",
      "\u001b[1;31mImportError\u001b[0m                               Traceback (most recent call last)",
      "Cell \u001b[1;32mIn[9], line 18\u001b[0m\n\u001b[0;32m      9\u001b[0m val_generator \u001b[38;5;241m=\u001b[39m val_data_gen\u001b[38;5;241m.\u001b[39mflow_from_directory(\n\u001b[0;32m     10\u001b[0m \t\t\t\t\tvalidation_data_dir,\n\u001b[0;32m     11\u001b[0m \t\t\t\t\tcolor_mode\u001b[38;5;241m=\u001b[39m\u001b[38;5;124m'\u001b[39m\u001b[38;5;124mrgb\u001b[39m\u001b[38;5;124m'\u001b[39m,\n\u001b[0;32m     12\u001b[0m \t\t\t\t\ttarget_size\u001b[38;5;241m=\u001b[39m(\u001b[38;5;241m48\u001b[39m, \u001b[38;5;241m48\u001b[39m),\n\u001b[0;32m     13\u001b[0m \t\t\t\t\tbatch_size\u001b[38;5;241m=\u001b[39m\u001b[38;5;241m64\u001b[39m,\n\u001b[0;32m     14\u001b[0m \t\t\t\t\tclass_mode\u001b[38;5;241m=\u001b[39m\u001b[38;5;124m'\u001b[39m\u001b[38;5;124mcategorical\u001b[39m\u001b[38;5;124m'\u001b[39m)\n\u001b[0;32m     16\u001b[0m class_labels\u001b[38;5;241m=\u001b[39m[\u001b[38;5;124m'\u001b[39m\u001b[38;5;124mAngry\u001b[39m\u001b[38;5;124m'\u001b[39m,\u001b[38;5;124m'\u001b[39m\u001b[38;5;124mDisgust\u001b[39m\u001b[38;5;124m'\u001b[39m, \u001b[38;5;124m'\u001b[39m\u001b[38;5;124mFear\u001b[39m\u001b[38;5;124m'\u001b[39m, \u001b[38;5;124m'\u001b[39m\u001b[38;5;124mHappy\u001b[39m\u001b[38;5;124m'\u001b[39m,\u001b[38;5;124m'\u001b[39m\u001b[38;5;124mNeutral\u001b[39m\u001b[38;5;124m'\u001b[39m,\u001b[38;5;124m'\u001b[39m\u001b[38;5;124mSad\u001b[39m\u001b[38;5;124m'\u001b[39m,\u001b[38;5;124m'\u001b[39m\u001b[38;5;124mSurprise\u001b[39m\u001b[38;5;124m'\u001b[39m]\n\u001b[1;32m---> 18\u001b[0m img, label \u001b[38;5;241m=\u001b[39m \u001b[43mtrain_generator\u001b[49m\u001b[38;5;241;43m.\u001b[39;49m\u001b[38;5;21;43m__next__\u001b[39;49m\u001b[43m(\u001b[49m\u001b[43m)\u001b[49m\n",
      "File \u001b[1;32mc:\\Users\\91810\\OneDrive\\Desktop\\Emotion recognition\\emotion\\Lib\\site-packages\\keras\\preprocessing\\image.py:156\u001b[0m, in \u001b[0;36mIterator.__next__\u001b[1;34m(self, *args, **kwargs)\u001b[0m\n\u001b[0;32m    155\u001b[0m \u001b[38;5;28;01mdef\u001b[39;00m\u001b[38;5;250m \u001b[39m\u001b[38;5;21m__next__\u001b[39m(\u001b[38;5;28mself\u001b[39m, \u001b[38;5;241m*\u001b[39margs, \u001b[38;5;241m*\u001b[39m\u001b[38;5;241m*\u001b[39mkwargs):\n\u001b[1;32m--> 156\u001b[0m     \u001b[38;5;28;01mreturn\u001b[39;00m \u001b[38;5;28;43mself\u001b[39;49m\u001b[38;5;241;43m.\u001b[39;49m\u001b[43mnext\u001b[49m\u001b[43m(\u001b[49m\u001b[38;5;241;43m*\u001b[39;49m\u001b[43margs\u001b[49m\u001b[43m,\u001b[49m\u001b[43m \u001b[49m\u001b[38;5;241;43m*\u001b[39;49m\u001b[38;5;241;43m*\u001b[39;49m\u001b[43mkwargs\u001b[49m\u001b[43m)\u001b[49m\n",
      "File \u001b[1;32mc:\\Users\\91810\\OneDrive\\Desktop\\Emotion recognition\\emotion\\Lib\\site-packages\\keras\\preprocessing\\image.py:168\u001b[0m, in \u001b[0;36mIterator.next\u001b[1;34m(self)\u001b[0m\n\u001b[0;32m    165\u001b[0m     index_array \u001b[38;5;241m=\u001b[39m \u001b[38;5;28mnext\u001b[39m(\u001b[38;5;28mself\u001b[39m\u001b[38;5;241m.\u001b[39mindex_generator)\n\u001b[0;32m    166\u001b[0m \u001b[38;5;66;03m# The transformation of images is not under thread lock\u001b[39;00m\n\u001b[0;32m    167\u001b[0m \u001b[38;5;66;03m# so it can be done in parallel\u001b[39;00m\n\u001b[1;32m--> 168\u001b[0m \u001b[38;5;28;01mreturn\u001b[39;00m \u001b[38;5;28;43mself\u001b[39;49m\u001b[38;5;241;43m.\u001b[39;49m\u001b[43m_get_batches_of_transformed_samples\u001b[49m\u001b[43m(\u001b[49m\u001b[43mindex_array\u001b[49m\u001b[43m)\u001b[49m\n",
      "File \u001b[1;32mc:\\Users\\91810\\OneDrive\\Desktop\\Emotion recognition\\emotion\\Lib\\site-packages\\keras\\preprocessing\\image.py:370\u001b[0m, in \u001b[0;36mBatchFromFilesMixin._get_batches_of_transformed_samples\u001b[1;34m(self, index_array)\u001b[0m\n\u001b[0;32m    368\u001b[0m filepaths \u001b[38;5;241m=\u001b[39m \u001b[38;5;28mself\u001b[39m\u001b[38;5;241m.\u001b[39mfilepaths\n\u001b[0;32m    369\u001b[0m \u001b[38;5;28;01mfor\u001b[39;00m i, j \u001b[38;5;129;01min\u001b[39;00m \u001b[38;5;28menumerate\u001b[39m(index_array):\n\u001b[1;32m--> 370\u001b[0m     img \u001b[38;5;241m=\u001b[39m \u001b[43mimage_utils\u001b[49m\u001b[38;5;241;43m.\u001b[39;49m\u001b[43mload_img\u001b[49m\u001b[43m(\u001b[49m\n\u001b[0;32m    371\u001b[0m \u001b[43m        \u001b[49m\u001b[43mfilepaths\u001b[49m\u001b[43m[\u001b[49m\u001b[43mj\u001b[49m\u001b[43m]\u001b[49m\u001b[43m,\u001b[49m\n\u001b[0;32m    372\u001b[0m \u001b[43m        \u001b[49m\u001b[43mcolor_mode\u001b[49m\u001b[38;5;241;43m=\u001b[39;49m\u001b[38;5;28;43mself\u001b[39;49m\u001b[38;5;241;43m.\u001b[39;49m\u001b[43mcolor_mode\u001b[49m\u001b[43m,\u001b[49m\n\u001b[0;32m    373\u001b[0m \u001b[43m        \u001b[49m\u001b[43mtarget_size\u001b[49m\u001b[38;5;241;43m=\u001b[39;49m\u001b[38;5;28;43mself\u001b[39;49m\u001b[38;5;241;43m.\u001b[39;49m\u001b[43mtarget_size\u001b[49m\u001b[43m,\u001b[49m\n\u001b[0;32m    374\u001b[0m \u001b[43m        \u001b[49m\u001b[43minterpolation\u001b[49m\u001b[38;5;241;43m=\u001b[39;49m\u001b[38;5;28;43mself\u001b[39;49m\u001b[38;5;241;43m.\u001b[39;49m\u001b[43minterpolation\u001b[49m\u001b[43m,\u001b[49m\n\u001b[0;32m    375\u001b[0m \u001b[43m        \u001b[49m\u001b[43mkeep_aspect_ratio\u001b[49m\u001b[38;5;241;43m=\u001b[39;49m\u001b[38;5;28;43mself\u001b[39;49m\u001b[38;5;241;43m.\u001b[39;49m\u001b[43mkeep_aspect_ratio\u001b[49m\u001b[43m,\u001b[49m\n\u001b[0;32m    376\u001b[0m \u001b[43m    \u001b[49m\u001b[43m)\u001b[49m\n\u001b[0;32m    377\u001b[0m     x \u001b[38;5;241m=\u001b[39m image_utils\u001b[38;5;241m.\u001b[39mimg_to_array(img, data_format\u001b[38;5;241m=\u001b[39m\u001b[38;5;28mself\u001b[39m\u001b[38;5;241m.\u001b[39mdata_format)\n\u001b[0;32m    378\u001b[0m     \u001b[38;5;66;03m# Pillow images should be closed after `load_img`,\u001b[39;00m\n\u001b[0;32m    379\u001b[0m     \u001b[38;5;66;03m# but not PIL images.\u001b[39;00m\n",
      "File \u001b[1;32mc:\\Users\\91810\\OneDrive\\Desktop\\Emotion recognition\\emotion\\Lib\\site-packages\\keras\\utils\\image_utils.py:414\u001b[0m, in \u001b[0;36mload_img\u001b[1;34m(path, grayscale, color_mode, target_size, interpolation, keep_aspect_ratio)\u001b[0m\n\u001b[0;32m    412\u001b[0m     color_mode \u001b[38;5;241m=\u001b[39m \u001b[38;5;124m\"\u001b[39m\u001b[38;5;124mgrayscale\u001b[39m\u001b[38;5;124m\"\u001b[39m\n\u001b[0;32m    413\u001b[0m \u001b[38;5;28;01mif\u001b[39;00m pil_image \u001b[38;5;129;01mis\u001b[39;00m \u001b[38;5;28;01mNone\u001b[39;00m:\n\u001b[1;32m--> 414\u001b[0m     \u001b[38;5;28;01mraise\u001b[39;00m \u001b[38;5;167;01mImportError\u001b[39;00m(\n\u001b[0;32m    415\u001b[0m         \u001b[38;5;124m\"\u001b[39m\u001b[38;5;124mCould not import PIL.Image. The use of `load_img` requires PIL.\u001b[39m\u001b[38;5;124m\"\u001b[39m\n\u001b[0;32m    416\u001b[0m     )\n\u001b[0;32m    417\u001b[0m \u001b[38;5;28;01mif\u001b[39;00m \u001b[38;5;28misinstance\u001b[39m(path, io\u001b[38;5;241m.\u001b[39mBytesIO):\n\u001b[0;32m    418\u001b[0m     img \u001b[38;5;241m=\u001b[39m pil_image\u001b[38;5;241m.\u001b[39mopen(path)\n",
      "\u001b[1;31mImportError\u001b[0m: Could not import PIL.Image. The use of `load_img` requires PIL."
     ]
    }
   ],
   "source": [
    "# Preprocessing\n",
    "train_generator = train_data_gen.flow_from_directory(\n",
    "\t\t\t\t\ttrain_data_dir,\n",
    "\t\t\t\t\tcolor_mode='rgb',\n",
    "\t\t\t\t\ttarget_size=(48, 48),\n",
    "\t\t\t\t\tbatch_size=64,\n",
    "\t\t\t\t\tclass_mode='categorical')\n",
    "\n",
    "val_generator = val_data_gen.flow_from_directory(\n",
    "\t\t\t\t\tvalidation_data_dir,\n",
    "\t\t\t\t\tcolor_mode='rgb',\n",
    "\t\t\t\t\ttarget_size=(48, 48),\n",
    "\t\t\t\t\tbatch_size=64,\n",
    "\t\t\t\t\tclass_mode='categorical')\n",
    "\n",
    "class_labels=['Angry','Disgust', 'Fear', 'Happy','Neutral','Sad','Surprise']\n",
    "\n",
    "img, label = train_generator.__next__()"
   ]
  },
  {
   "cell_type": "code",
   "execution_count": 36,
   "id": "f3aa788f",
   "metadata": {},
   "outputs": [
    {
     "name": "stdout",
     "output_type": "stream",
     "text": [
      "WARNING:tensorflow:`input_shape` is undefined or non-square, or `rows` is not in [96, 128, 160, 192, 224]. Weights for input shape (224, 224) will be loaded as the default.\n"
     ]
    }
   ],
   "source": [
    "# Create model Structure\n",
    "base_model = MobileNetV2(weights='imagenet', include_top=False, input_shape=(48,  48, 3))\n",
    "\n",
    "# Build your model on top of VGG-16\n",
    "model = Sequential()\n",
    "model.add(base_model)\n",
    "model.add(Flatten())\n",
    "model.add(Dense(256,activation='relu',kernel_regularizer=regularizers.l2(0.001)))\n",
    "model.add(Dropout(0.5))\n",
    "model.add(Dense(7,activation='softmax'))  # 7 classes for emotions\n",
    "\n",
    "\n",
    "# # Define input shape of MobileNet\n",
    "# input_shape = (48, 48, 1)  # Adjust according to your image dimensions\n",
    "\n",
    "# # Initialize model\n",
    "# model = Sequential()\n",
    "\n",
    "# # Convolutional layers\n",
    "# model.add(Conv2D(32, kernel_size=(3, 3), activation='relu', input_shape=input_shape))\n",
    "# model.add(MaxPooling2D(pool_size=(2, 2)))\n",
    "\n",
    "# model.add(Conv2D(64, kernel_size=(3, 3), activation='relu'))\n",
    "# model.add(MaxPooling2D(pool_size=(2, 2)))\n",
    "\n",
    "# model.add(Conv2D(128, kernel_size=(3, 3), activation='relu'))\n",
    "# model.add(MaxPooling2D(pool_size=(2, 2)))\n",
    "\n",
    "# model.add(Conv2D(256, kernel_size=(3, 3), activation='relu'))\n",
    "# model.add(MaxPooling2D(pool_size=(2, 2)))\n",
    "\n",
    "# # Flatten layer\n",
    "# model.add(Flatten())\n",
    "\n",
    "# # Fully connected layers\n",
    "# model.add(Dense(512, activation='relu'))\n",
    "# model.add(Dropout(0.5))\n",
    "\n",
    "# # Output layer\n",
    "# model.add(Dense(7, activation='softmax'))  # 7 classes for emotions\n"
   ]
  },
  {
   "cell_type": "code",
   "execution_count": 37,
   "id": "a229f9f7",
   "metadata": {},
   "outputs": [
    {
     "name": "stdout",
     "output_type": "stream",
     "text": [
      "Model: \"sequential_1\"\n",
      "_________________________________________________________________\n",
      " Layer (type)                Output Shape              Param #   \n",
      "=================================================================\n",
      " mobilenetv2_1.00_224 (Func  (None, 2, 2, 1280)        2257984   \n",
      " tional)                                                         \n",
      "                                                                 \n",
      " flatten_1 (Flatten)         (None, 5120)              0         \n",
      "                                                                 \n",
      " dense_2 (Dense)             (None, 256)               1310976   \n",
      "                                                                 \n",
      " dropout_1 (Dropout)         (None, 256)               0         \n",
      "                                                                 \n",
      " dense_3 (Dense)             (None, 7)                 1799      \n",
      "                                                                 \n",
      "=================================================================\n",
      "Total params: 3570759 (13.62 MB)\n",
      "Trainable params: 3536647 (13.49 MB)\n",
      "Non-trainable params: 34112 (133.25 KB)\n",
      "_________________________________________________________________\n",
      "None\n"
     ]
    }
   ],
   "source": [
    "# Params\n",
    "optim = Adam(learning_rate=0.0001, weight_decay=1e-6)\n",
    "\n",
    "model.compile(optimizer=optim, loss='categorical_crossentropy', metrics = ['accuracy'])\n",
    "\n",
    "print(model.summary())"
   ]
  },
  {
   "cell_type": "code",
   "execution_count": 38,
   "id": "2219044a",
   "metadata": {},
   "outputs": [],
   "source": [
    "# Early stopping\n",
    "# checkpoint =  ModelCheckpoint(\"model/model_25.weights.h5\",monitor='val_acc', verbose=1, save_best_only=True, mode='max')\n",
    "\n",
    "early_stopping = EarlyStopping(monitor='val_loss',min_delta=0,patience=3,verbose=1,restore_best_weights=True)\n",
    "\n",
    "# reduce_lr_rate = ReduceLROnPlateau(monitor='val_loss',factor=0.2,patience=3, verbose=1, min_delta=0.001)\n",
    "\n",
    "callback_list = [ early_stopping]"
   ]
  },
  {
   "cell_type": "code",
   "execution_count": 39,
   "id": "c07f25ca",
   "metadata": {},
   "outputs": [
    {
     "name": "stdout",
     "output_type": "stream",
     "text": [
      "28709\n",
      "7178\n"
     ]
    }
   ],
   "source": [
    "train_path = \"data/train/\"\n",
    "test_path = \"data/test\"\n",
    "\n",
    "num_train_imgs = 0\n",
    "for root, dirs, files in os.walk(train_path):\n",
    "    num_train_imgs += len(files)\n",
    "    \n",
    "num_test_imgs = 0\n",
    "for root, dirs, files in os.walk(test_path):\n",
    "    num_test_imgs += len(files)\n",
    "\n",
    "print(num_train_imgs)\n",
    "print(num_test_imgs)"
   ]
  },
  {
   "cell_type": "code",
   "execution_count": 40,
   "id": "7b7d26a3",
   "metadata": {},
   "outputs": [
    {
     "name": "stdout",
     "output_type": "stream",
     "text": [
      "Epoch 1/10\n",
      "448/448 [==============================] - 247s 398ms/step - loss: 2.3817 - accuracy: 0.2756 - val_loss: 2.2920 - val_accuracy: 0.3055\n",
      "Epoch 2/10\n",
      "448/448 [==============================] - 182s 407ms/step - loss: 2.0688 - accuracy: 0.3751 - val_loss: 2.2089 - val_accuracy: 0.3410\n",
      "Epoch 3/10\n",
      "448/448 [==============================] - 174s 387ms/step - loss: 1.9315 - accuracy: 0.4322 - val_loss: 2.2024 - val_accuracy: 0.3718\n",
      "Epoch 4/10\n",
      "448/448 [==============================] - 171s 382ms/step - loss: 1.8003 - accuracy: 0.4755 - val_loss: 2.2519 - val_accuracy: 0.4054\n",
      "Epoch 5/10\n",
      "448/448 [==============================] - 177s 396ms/step - loss: 1.6743 - accuracy: 0.5153 - val_loss: 1.8873 - val_accuracy: 0.4565\n",
      "Epoch 6/10\n",
      "448/448 [==============================] - 171s 381ms/step - loss: 1.5660 - accuracy: 0.5457 - val_loss: 1.8911 - val_accuracy: 0.4593\n",
      "Epoch 7/10\n",
      "448/448 [==============================] - 193s 430ms/step - loss: 1.4603 - accuracy: 0.5816 - val_loss: 1.7406 - val_accuracy: 0.4930\n",
      "Epoch 8/10\n",
      "448/448 [==============================] - 184s 410ms/step - loss: 1.3453 - accuracy: 0.6126 - val_loss: 1.8471 - val_accuracy: 0.4713\n",
      "Epoch 9/10\n",
      "448/448 [==============================] - 193s 430ms/step - loss: 1.2276 - accuracy: 0.6531 - val_loss: 1.8221 - val_accuracy: 0.4788\n",
      "Epoch 10/10\n",
      "448/448 [==============================] - ETA: 0s - loss: 1.1295 - accuracy: 0.6811Restoring model weights from the end of the best epoch: 7.\n",
      "448/448 [==============================] - 181s 405ms/step - loss: 1.1295 - accuracy: 0.6811 - val_loss: 1.7724 - val_accuracy: 0.5123\n",
      "Epoch 10: early stopping\n"
     ]
    }
   ],
   "source": [
    "epochs=10\n",
    "\n",
    "\n",
    "# Train the model/network\n",
    "history = model.fit(\n",
    "    train_generator,\n",
    "    steps_per_epoch = num_train_imgs//64,\n",
    "    epochs=epochs,\n",
    "    validation_data=val_generator,\n",
    "    validation_steps=num_test_imgs//64,\n",
    "    callbacks=callback_list,\n",
    ")"
   ]
  },
  {
   "cell_type": "code",
   "execution_count": 41,
   "id": "25e20f1e",
   "metadata": {},
   "outputs": [],
   "source": [
    "# # Save model structure in json \n",
    "# model_json = model.to_json()\n",
    "# with open('model/model_loaded.json', 'w') as json_file:\n",
    "#     json_file.write(model_json)\n",
    "\n",
    "# Save trained model\n",
    "model.save('model/model_10.h5')"
   ]
  },
  {
   "cell_type": "code",
   "execution_count": null,
   "id": "ee94e295",
   "metadata": {},
   "outputs": [
    {
     "name": "stdout",
     "output_type": "stream",
     "text": [
      "Epoch 1/10\n",
      "448/448 [==============================] - 220s 411ms/step - loss: 1.3426 - accuracy: 0.6145 - val_loss: 1.7472 - val_accuracy: 0.5003\n",
      "Epoch 2/10\n",
      "448/448 [==============================] - ETA: 0s - loss: 1.2325 - accuracy: 0.6487"
     ]
    }
   ],
   "source": [
    "model_1 = load_model('model/model_10.h5')\n",
    "model_1.fit(train_generator,\n",
    "    steps_per_epoch = num_train_imgs//64,\n",
    "    epochs=epochs,\n",
    "    validation_data=val_generator,\n",
    "    validation_steps=num_test_imgs//64,\n",
    "    callbacks=callback_list,)"
   ]
  },
  {
   "cell_type": "code",
   "execution_count": 22,
   "id": "45b96911",
   "metadata": {},
   "outputs": [],
   "source": [
    "model_1.save('model/model_10.h5')"
   ]
  },
  {
   "cell_type": "code",
   "execution_count": 23,
   "id": "9c874280",
   "metadata": {},
   "outputs": [
    {
     "name": "stdout",
     "output_type": "stream",
     "text": [
      "Epoch 1/10\n",
      "448/448 [==============================] - 205s 381ms/step - loss: 0.5406 - accuracy: 0.8052 - val_loss: 1.7735 - val_accuracy: 0.5230\n",
      "Epoch 2/10\n",
      "448/448 [==============================] - 169s 377ms/step - loss: 0.4921 - accuracy: 0.8215 - val_loss: 1.8023 - val_accuracy: 0.5308\n",
      "Epoch 3/10\n",
      "448/448 [==============================] - 178s 397ms/step - loss: 0.4452 - accuracy: 0.8398 - val_loss: 1.7914 - val_accuracy: 0.5339\n",
      "Epoch 4/10\n",
      "448/448 [==============================] - ETA: 0s - loss: 0.4098 - accuracy: 0.8535Restoring model weights from the end of the best epoch: 1.\n",
      "448/448 [==============================] - 176s 391ms/step - loss: 0.4098 - accuracy: 0.8535 - val_loss: 1.8771 - val_accuracy: 0.5432\n",
      "Epoch 4: early stopping\n"
     ]
    },
    {
     "data": {
      "text/plain": [
       "<keras.src.callbacks.History at 0x29698a7ead0>"
      ]
     },
     "execution_count": 23,
     "metadata": {},
     "output_type": "execute_result"
    }
   ],
   "source": [
    "model_2 = load_model('model/model_10.h5')\n",
    "model_2.fit(train_generator,\n",
    "    steps_per_epoch = num_train_imgs//64,\n",
    "    epochs=epochs,\n",
    "    validation_data=val_generator,\n",
    "    validation_steps=num_test_imgs//64,\n",
    "    callbacks=callback_list,)"
   ]
  },
  {
   "cell_type": "code",
   "execution_count": 25,
   "id": "ead8b3e5",
   "metadata": {},
   "outputs": [],
   "source": [
    "model_2.save('model/model_10.h5')"
   ]
  },
  {
   "cell_type": "code",
   "execution_count": 26,
   "id": "c3bc6c76",
   "metadata": {},
   "outputs": [
    {
     "name": "stdout",
     "output_type": "stream",
     "text": [
      "Epoch 1/10\n",
      "448/448 [==============================] - 211s 392ms/step - loss: 0.4799 - accuracy: 0.8259 - val_loss: 1.7935 - val_accuracy: 0.5388\n",
      "Epoch 2/10\n",
      "448/448 [==============================] - 166s 371ms/step - loss: 0.4480 - accuracy: 0.8404 - val_loss: 1.9025 - val_accuracy: 0.5332\n",
      "Epoch 3/10\n",
      "448/448 [==============================] - 171s 382ms/step - loss: 0.4058 - accuracy: 0.8540 - val_loss: 1.8839 - val_accuracy: 0.5343\n",
      "Epoch 4/10\n",
      "448/448 [==============================] - ETA: 0s - loss: 0.3696 - accuracy: 0.8684Restoring model weights from the end of the best epoch: 1.\n",
      "448/448 [==============================] - 170s 379ms/step - loss: 0.3696 - accuracy: 0.8684 - val_loss: 2.0428 - val_accuracy: 0.5458\n",
      "Epoch 4: early stopping\n"
     ]
    },
    {
     "data": {
      "text/plain": [
       "<keras.src.callbacks.History at 0x296a0c30b90>"
      ]
     },
     "execution_count": 26,
     "metadata": {},
     "output_type": "execute_result"
    }
   ],
   "source": [
    "model_3 = load_model('model/model_10.h5')\n",
    "model_3.fit(train_generator,\n",
    "    steps_per_epoch = num_train_imgs//64,\n",
    "    epochs=epochs,\n",
    "    validation_data=val_generator,\n",
    "    validation_steps=num_test_imgs//64,\n",
    "    callbacks=callback_list,)"
   ]
  },
  {
   "cell_type": "code",
   "execution_count": 27,
   "id": "be0f323c",
   "metadata": {},
   "outputs": [],
   "source": [
    "model_3.save('model/model_10.h5')"
   ]
  },
  {
   "cell_type": "code",
   "execution_count": 28,
   "id": "6d05848b",
   "metadata": {},
   "outputs": [
    {
     "name": "stdout",
     "output_type": "stream",
     "text": [
      "Epoch 1/10\n",
      "448/448 [==============================] - 211s 391ms/step - loss: 0.4523 - accuracy: 0.8393 - val_loss: 1.9388 - val_accuracy: 0.5402\n",
      "Epoch 2/10\n",
      "448/448 [==============================] - 168s 374ms/step - loss: 0.4062 - accuracy: 0.8552 - val_loss: 1.8764 - val_accuracy: 0.5405\n",
      "Epoch 3/10\n",
      "448/448 [==============================] - 171s 381ms/step - loss: 0.3747 - accuracy: 0.8654 - val_loss: 1.9971 - val_accuracy: 0.5523\n",
      "Epoch 4/10\n",
      "448/448 [==============================] - 170s 380ms/step - loss: 0.3361 - accuracy: 0.8819 - val_loss: 2.0949 - val_accuracy: 0.5364\n",
      "Epoch 5/10\n",
      "448/448 [==============================] - ETA: 0s - loss: 0.3272 - accuracy: 0.8845Restoring model weights from the end of the best epoch: 2.\n",
      "448/448 [==============================] - 172s 383ms/step - loss: 0.3272 - accuracy: 0.8845 - val_loss: 2.2258 - val_accuracy: 0.5308\n",
      "Epoch 5: early stopping\n"
     ]
    },
    {
     "data": {
      "text/plain": [
       "<keras.src.callbacks.History at 0x29659c45990>"
      ]
     },
     "execution_count": 28,
     "metadata": {},
     "output_type": "execute_result"
    }
   ],
   "source": [
    "model_4 = load_model('model/model_10.h5')\n",
    "model_4.fit(train_generator,\n",
    "    steps_per_epoch = num_train_imgs//64,\n",
    "    epochs=epochs,\n",
    "    validation_data=val_generator,\n",
    "    validation_steps=num_test_imgs//64,\n",
    "    callbacks=callback_list,)"
   ]
  },
  {
   "cell_type": "code",
   "execution_count": 29,
   "id": "8a6e7d1e",
   "metadata": {},
   "outputs": [],
   "source": [
    "model_4.save('model/model_10.h5')"
   ]
  },
  {
   "cell_type": "code",
   "execution_count": 31,
   "id": "25c2a4e7",
   "metadata": {},
   "outputs": [
    {
     "name": "stdout",
     "output_type": "stream",
     "text": [
      "Epoch 1/10\n",
      "448/448 [==============================] - 200s 376ms/step - loss: 0.3753 - accuracy: 0.8681 - val_loss: 2.0741 - val_accuracy: 0.5484\n",
      "Epoch 2/10\n",
      "448/448 [==============================] - 162s 361ms/step - loss: 0.3489 - accuracy: 0.8776 - val_loss: 2.2547 - val_accuracy: 0.5442\n",
      "Epoch 3/10\n",
      "448/448 [==============================] - 177s 394ms/step - loss: 0.3209 - accuracy: 0.8868 - val_loss: 2.2196 - val_accuracy: 0.5340\n",
      "Epoch 4/10\n",
      "448/448 [==============================] - ETA: 0s - loss: 0.3029 - accuracy: 0.8942Restoring model weights from the end of the best epoch: 1.\n",
      "448/448 [==============================] - 180s 403ms/step - loss: 0.3029 - accuracy: 0.8942 - val_loss: 2.3444 - val_accuracy: 0.5254\n",
      "Epoch 4: early stopping\n"
     ]
    }
   ],
   "source": [
    "model_5 = load_model('model/model_10.h5')\n",
    "model_5.fit(train_generator,\n",
    "    steps_per_epoch = num_train_imgs//64,\n",
    "    epochs=epochs,\n",
    "    validation_data=val_generator,\n",
    "    validation_steps=num_test_imgs//64,\n",
    "    callbacks=callback_list,)\n",
    "model_5.save('model/model_10.h5')"
   ]
  },
  {
   "cell_type": "code",
   "execution_count": 39,
   "id": "487af065",
   "metadata": {},
   "outputs": [],
   "source": [
    "import pickle\n",
    "\n",
    "# Save the model to a file\n",
    "with open('model/model.pkl', 'wb') as file:\n",
    "    pickle.dump(model, file)\n",
    "\n"
   ]
  },
  {
   "cell_type": "code",
   "execution_count": 40,
   "id": "a5e7722c",
   "metadata": {},
   "outputs": [],
   "source": [
    "# Load the model from a file\n",
    "with open('model/model.pkl', 'rb') as file:\n",
    "    model_loaded7 = pickle.load(file)"
   ]
  },
  {
   "cell_type": "code",
   "execution_count": 18,
   "id": "3636ee66",
   "metadata": {},
   "outputs": [
    {
     "name": "stdout",
     "output_type": "stream",
     "text": [
      "112/112 [==============================] - 24s 179ms/step\n"
     ]
    }
   ],
   "source": [
    "pred=model.predict(val_generator,steps=num_test_imgs//64)\n",
    "final_predict=np.argmax(pred,axis=1)\n",
    "true_data=val_generator.classes"
   ]
  },
  {
   "cell_type": "code",
   "execution_count": 19,
   "id": "90e13941",
   "metadata": {},
   "outputs": [
    {
     "name": "stdout",
     "output_type": "stream",
     "text": [
      "7178\n",
      "7168\n"
     ]
    }
   ],
   "source": [
    "print(len(true_data))\n",
    "print(len(final_predict))"
   ]
  },
  {
   "cell_type": "code",
   "execution_count": 20,
   "id": "fe3394a7",
   "metadata": {},
   "outputs": [
    {
     "name": "stdout",
     "output_type": "stream",
     "text": [
      "Accuracy Score is 0.17466517857142858\n"
     ]
    }
   ],
   "source": [
    "from sklearn.metrics import accuracy_score\n",
    "\n",
    "# Truncate the longer array to match the length of the shorter array\n",
    "min_length = min(len(true_data), len(final_predict))\n",
    "true_data = true_data[:min_length]\n",
    "final_predict = final_predict[:min_length]\n",
    "print(\"Accuracy Score is\",accuracy_score(true_data,final_predict))"
   ]
  },
  {
   "cell_type": "code",
   "execution_count": 30,
   "id": "947275bd",
   "metadata": {},
   "outputs": [
    {
     "data": {
      "image/png": "[encoded data removed]",
      "text/plain": [
       "<Figure size 1000x1000 with 1 Axes>"
      ]
     },
     "metadata": {},
     "output_type": "display_data"
    }
   ],
   "source": [
    "plt.figure(figsize=(10, 10))\n",
    "plt.plot(history.history['accuracy'], marker=\"*\", linestyle=\"--\", color=\"yellow\", markersize=10, lw=4)\n",
    "plt.plot(history.history['val_accuracy'], marker=\"D\", linestyle=\"-.\", color=\"darkcyan\", markersize=10, lw=4)\n",
    "plt.title('MobilNet Accuracy\\n', color=\"lavender\", fontsize=20)\n",
    "plt.ylabel('Accuracy', color=\"lavender\", fontsize=15)\n",
    "plt.xlabel('Epoch', color=\"lavender\", fontsize=15)\n",
    "plt.legend(['Train_Accuracy', 'Test_accuracy'], loc='upper left')\n",
    "plt.show()"
   ]
  },
  {
   "cell_type": "code",
   "execution_count": null,
   "id": "7d7d2fdb",
   "metadata": {},
   "outputs": [],
   "source": []
  }
 ],
 "metadata": {
  "kernelspec": {
   "display_name": "em",
   "language": "python",
   "name": "python3"
  },
  "language_info": {
   "codemirror_mode": {
    "name": "ipython",
    "version": 3
   },
   "file_extension": ".py",
   "mimetype": "text/x-python",
   "name": "python",
   "nbconvert_exporter": "python",
   "pygments_lexer": "ipython3",
   "version": "3.9.13"
  }
 },
 "nbformat": 4,
 "nbformat_minor": 5
}
